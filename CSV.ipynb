{
 "cells": [
  {
   "cell_type": "markdown",
   "id": "d705350f-041a-40d8-ba6b-3b2b350eb502",
   "metadata": {},
   "source": [
    "CSV File"
   ]
  },
  {
   "cell_type": "code",
   "execution_count": 2,
   "id": "ab201d2e-192b-4274-bdf5-ca0761007a95",
   "metadata": {},
   "outputs": [
    {
     "name": "stdout",
     "output_type": "stream",
     "text": [
      "     name district      branch\n",
      "0     Ram      Rkl          IT\n",
      "1   Shyam     Bbsr          CS\n",
      "2   Virat      Sbp         MCA\n",
      "3   Rohit  Cuttuck         MBA\n",
      "4   Rohan     puri          HR\n",
      "5  Sekhar  khordha  MANAGEMENT\n"
     ]
    }
   ],
   "source": [
    "import pandas as pd\n",
    "dict = {\"name\" : [\"Ram\",\"Shyam\",\"Virat\",\"Rohit\",\"Rohan\",\"Sekhar\"],\"district\" : [\"Rkl\",\"Bbsr\",\"Sbp\",\"Cuttuck\",\"puri\",\"khordha\"],\"branch\" : [\"IT\",\"CS\",\"MCA\",\"MBA\",\"HR\",\"MANAGEMENT\"]}\n",
    "d = pd.DataFrame(dict)\n",
    "print(d)\n",
    "d.to_csv(\"Test.csv\")"
   ]
  },
  {
   "cell_type": "code",
   "execution_count": null,
   "id": "902d8f5f-8031-437f-812a-4d8b8286ac89",
   "metadata": {},
   "outputs": [],
   "source": []
  }
 ],
 "metadata": {
  "kernelspec": {
   "display_name": "Python 3 (ipykernel)",
   "language": "python",
   "name": "python3"
  },
  "language_info": {
   "codemirror_mode": {
    "name": "ipython",
    "version": 3
   },
   "file_extension": ".py",
   "mimetype": "text/x-python",
   "name": "python",
   "nbconvert_exporter": "python",
   "pygments_lexer": "ipython3",
   "version": "3.12.7"
  }
 },
 "nbformat": 4,
 "nbformat_minor": 5
}
